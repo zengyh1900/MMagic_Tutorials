{
 "cells": [
  {
   "cell_type": "markdown",
   "id": "f6cf2fed-70ce-4b62-b962-5bcf6cc6fc9d",
   "metadata": {},
   "source": [
    "# 文生图-Stable Diffusion\n",
    "\n",
    "同济子豪兄 2023-6-13\n",
    "\n",
    "https://github.com/open-mmlab/mmagic/tree/main/configs/stable_diffusion"
   ]
  },
  {
   "cell_type": "markdown",
   "id": "516081d1-3b09-4fb8-9162-77c388f8bb47",
   "metadata": {},
   "source": [
    "## 导入工具包"
   ]
  },
  {
   "cell_type": "code",
   "execution_count": 1,
   "id": "5430cf69-4340-43ec-be65-882ca8d0592b",
   "metadata": {},
   "outputs": [
    {
     "name": "stderr",
     "output_type": "stream",
     "text": [
      "2023-06-13 19:48:59.925425: I tensorflow/core/platform/cpu_feature_guard.cc:193] This TensorFlow binary is optimized with oneAPI Deep Neural Network Library (oneDNN) to use the following CPU instructions in performance-critical operations:  AVX2 FMA\n",
      "To enable them in other operations, rebuild TensorFlow with the appropriate compiler flags.\n",
      "2023-06-13 19:49:00.681498: W tensorflow/compiler/xla/stream_executor/platform/default/dso_loader.cc:64] Could not load dynamic library 'libnvinfer.so.7'; dlerror: libnvinfer.so.7: cannot open shared object file: No such file or directory; LD_LIBRARY_PATH: /environment/miniconda3/lib/python3.8/site-packages/cv2/../../lib64:\n",
      "2023-06-13 19:49:00.681590: W tensorflow/compiler/xla/stream_executor/platform/default/dso_loader.cc:64] Could not load dynamic library 'libnvinfer_plugin.so.7'; dlerror: libnvinfer_plugin.so.7: cannot open shared object file: No such file or directory; LD_LIBRARY_PATH: /environment/miniconda3/lib/python3.8/site-packages/cv2/../../lib64:\n",
      "2023-06-13 19:49:00.681598: W tensorflow/compiler/tf2tensorrt/utils/py_utils.cc:38] TF-TRT Warning: Cannot dlopen some TensorRT libraries. If you would like to use Nvidia GPU with TensorRT, please make sure the missing libraries mentioned above are installed properly.\n"
     ]
    }
   ],
   "source": [
    "from mmagic.apis import MMagicInferencer"
   ]
  },
  {
   "cell_type": "markdown",
   "id": "dc5783f1-d6b5-48b5-9775-6b98b39db632",
   "metadata": {},
   "source": [
    "## 载入Stable Diffusion模型"
   ]
  },
  {
   "cell_type": "code",
   "execution_count": 4,
   "id": "d941f0ef-36d2-4de9-90a2-f78c998b41dd",
   "metadata": {},
   "outputs": [
    {
     "name": "stdout",
     "output_type": "stream",
     "text": [
      "06/13 19:49:13 - mmengine - \u001b[4m\u001b[97mINFO\u001b[0m - Creating runwayml/stable-diffusion-v1-5 by 'HuggingFace'\n",
      "06/13 19:49:17 - mmengine - \u001b[5m\u001b[4m\u001b[33mWARNING\u001b[0m - Failed to search registry with scope \"mmagic\" in the \"function\" registry tree. As a workaround, the current \"function\" registry in \"mmengine\" is used to build instance. This may cause unexpected failure when running the built modules. Please check whether \"mmagic\" is a correct scope, or whether the registry is initialized.\n"
     ]
    }
   ],
   "source": [
    "sd_inferencer = MMagicInferencer(model_name='stable_diffusion')"
   ]
  },
  {
   "cell_type": "markdown",
   "id": "f8d8ea5b-3602-4960-a55e-4cf64dc1e9c8",
   "metadata": {},
   "source": [
    "## 指定Prompt文本"
   ]
  },
  {
   "cell_type": "code",
   "execution_count": 5,
   "id": "838d83f7-03d5-4522-aa95-c0fbd701d3fc",
   "metadata": {},
   "outputs": [],
   "source": [
    "text_prompts = 'A panda is having dinner at KFC'\n",
    "\n",
    "text_prompts = 'A Persian cat walking in the streets of New York'"
   ]
  },
  {
   "cell_type": "markdown",
   "id": "1cd59eea-7b33-41e9-8513-7ba23e100094",
   "metadata": {},
   "source": [
    "## 执行预测"
   ]
  },
  {
   "cell_type": "code",
   "execution_count": 6,
   "id": "6b26ec3a-0a40-4d15-b6f6-3a428612f016",
   "metadata": {},
   "outputs": [
    {
     "data": {
      "application/json": {
       "ascii": false,
       "bar_format": null,
       "colour": null,
       "elapsed": 0.00810861587524414,
       "initial": 0,
       "n": 0,
       "ncols": null,
       "nrows": null,
       "postfix": null,
       "prefix": "",
       "rate": null,
       "total": 50,
       "unit": "it",
       "unit_divisor": 1000,
       "unit_scale": false
      },
      "application/vnd.jupyter.widget-view+json": {
       "model_id": "43f544b6fba74041a061017b8f596be7",
       "version_major": 2,
       "version_minor": 0
      },
      "text/plain": [
       "  0%|          | 0/50 [00:00<?, ?it/s]"
      ]
     },
     "metadata": {},
     "output_type": "display_data"
    },
    {
     "data": {
      "text/plain": [
       "({'infer_results': <PIL.Image.Image image mode=RGB size=512x512>},\n",
       " <PIL.Image.Image image mode=RGB size=512x512>)"
      ]
     },
     "execution_count": 6,
     "metadata": {},
     "output_type": "execute_result"
    }
   ],
   "source": [
    "sd_inferencer.infer(text=text_prompts, result_out_dir='output/sd_res.png')"
   ]
  },
  {
   "cell_type": "code",
   "execution_count": null,
   "id": "4842efa3-b74a-4f06-bf59-b3a9d5c10993",
   "metadata": {},
   "outputs": [],
   "source": []
  }
 ],
 "metadata": {
  "kernelspec": {
   "display_name": "Python 3 (ipykernel)",
   "language": "python",
   "name": "python3"
  },
  "language_info": {
   "codemirror_mode": {
    "name": "ipython",
    "version": 3
   },
   "file_extension": ".py",
   "mimetype": "text/x-python",
   "name": "python",
   "nbconvert_exporter": "python",
   "pygments_lexer": "ipython3",
   "version": "3.8.11"
  }
 },
 "nbformat": 4,
 "nbformat_minor": 5
}
