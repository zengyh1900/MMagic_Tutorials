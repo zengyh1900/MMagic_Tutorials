{
 "cells": [
  {
   "cell_type": "markdown",
   "id": "cc6f6c1d",
   "metadata": {},
   "source": [
    "# AIGC 应用体验\n",
    "\n",
    "- AIGC 算法库： https://github.com/open-mmlab/mmagic \n",
    "\n",
    "- MagicMaker 内容创作平台： https://magicmaker.openxlab.org.cn/\n",
    "\n",
    "- OpenXLab 应用中心：https://openxlab.org.cn/apps \n",
    "    - DragGAN: https://openxlab.org.cn/apps/detail/XingangPan/DragGAN\n",
    "    - Stable Diffusion Webui: https://openxlab.org.cn/apps/detail/camenduru/stable-diffusion-webui\n",
    "    - Latent Consistency Model: https://openxlab.org.cn/apps/detail/Latent-Consistency-Model/Latent-Consistency-Model \n",
    "    - AnimateDiff: https://openxlab.org.cn/apps/detail/Masbfca/AnimateDiff \n",
    "\n"
   ]
  },
  {
   "cell_type": "markdown",
   "id": "bc3d1961-9081-49c9-be56-ad0c748decf1",
   "metadata": {},
   "source": [
    "# 安装配置MMagic"
   ]
  },
  {
   "cell_type": "markdown",
   "id": "0fc8ebd8-db6e-4a17-895f-2f87fc98ca79",
   "metadata": {},
   "source": [
    "按照顺序逐行运行本代码，即可安装配置 MMCV、MMagic环境\n",
    "\n",
    "推荐代码运行[云GPU环境](https://featurize.cn?s=d7ce99f842414bfcaea5662a97581bd1)：GPU RTX 3060、CUDA v11.2"
   ]
  },
  {
   "cell_type": "markdown",
   "id": "63d0dc47-4601-49a3-8d25-12b4d24fa6f0",
   "metadata": {},
   "source": [
    "> 提示：以下代码运行时，若长时间运行卡着不动，可重启 kernel 后重新运行一遍"
   ]
  },
  {
   "cell_type": "markdown",
   "id": "6fc1c686-1267-4503-b9e4-bcb188a7f974",
   "metadata": {
    "tags": []
   },
   "source": [
    "## 安装Pytorch"
   ]
  },
  {
   "cell_type": "code",
   "execution_count": 1,
   "id": "2fef57fc-d5f0-4cd0-a134-1f025c15439f",
   "metadata": {},
   "outputs": [
    {
     "name": "stdout",
     "output_type": "stream",
     "text": [
      "Looking in indexes: https://pypi.tuna.tsinghua.edu.cn/simple\n",
      "Looking in links: https://download.pytorch.org/whl/cu113/torch_stable.html\n",
      "\u001b[33mWARNING: Retrying (Retry(total=4, connect=None, read=None, redirect=None, status=None)) after connection broken by 'ConnectTimeoutError(<pip._vendor.urllib3.connection.HTTPSConnection object at 0x7fb9769ba8e0>, 'Connection to download.pytorch.org timed out. (connect timeout=15)')': /whl/cu113/torch_stable.html\u001b[0m\u001b[33m\n",
      "\u001b[0m\u001b[33mWARNING: Retrying (Retry(total=3, connect=None, read=None, redirect=None, status=None)) after connection broken by 'ConnectTimeoutError(<pip._vendor.urllib3.connection.HTTPSConnection object at 0x7fb9769babb0>, 'Connection to download.pytorch.org timed out. (connect timeout=15)')': /whl/cu113/torch_stable.html\u001b[0m\u001b[33m\n",
      "\u001b[0m\u001b[33mWARNING: Retrying (Retry(total=2, connect=None, read=None, redirect=None, status=None)) after connection broken by 'ConnectTimeoutError(<pip._vendor.urllib3.connection.HTTPSConnection object at 0x7fb9769bad30>, 'Connection to download.pytorch.org timed out. (connect timeout=15)')': /whl/cu113/torch_stable.html\u001b[0m\u001b[33m\n",
      "\u001b[0m\u001b[33mWARNING: Retrying (Retry(total=1, connect=None, read=None, redirect=None, status=None)) after connection broken by 'ConnectTimeoutError(<pip._vendor.urllib3.connection.HTTPSConnection object at 0x7fb9769baee0>, 'Connection to download.pytorch.org timed out. (connect timeout=15)')': /whl/cu113/torch_stable.html\u001b[0m\u001b[33m\n",
      "\u001b[0m\u001b[33mWARNING: Retrying (Retry(total=0, connect=None, read=None, redirect=None, status=None)) after connection broken by 'ConnectTimeoutError(<pip._vendor.urllib3.connection.HTTPSConnection object at 0x7fb9769bafa0>, 'Connection to download.pytorch.org timed out. (connect timeout=15)')': /whl/cu113/torch_stable.html\u001b[0m\u001b[33m\n",
      "\u001b[0m\u001b[33mWARNING: Retrying (Retry(total=4, connect=None, read=None, redirect=None, status=None)) after connection broken by 'ConnectTimeoutError(<pip._vendor.urllib3.connection.HTTPSConnection object at 0x7fb9769dc730>, 'Connection to pypi.tuna.tsinghua.edu.cn timed out. (connect timeout=15)')': /simple/install/\u001b[0m\u001b[33m\n",
      "\u001b[0m\u001b[33mWARNING: Retrying (Retry(total=3, connect=None, read=None, redirect=None, status=None)) after connection broken by 'ConnectTimeoutError(<pip._vendor.urllib3.connection.HTTPSConnection object at 0x7fb9769dc940>, 'Connection to pypi.tuna.tsinghua.edu.cn timed out. (connect timeout=15)')': /simple/install/\u001b[0m\u001b[33m\n",
      "\u001b[0m\u001b[33mWARNING: Retrying (Retry(total=2, connect=None, read=None, redirect=None, status=None)) after connection broken by 'ConnectTimeoutError(<pip._vendor.urllib3.connection.HTTPSConnection object at 0x7fb9769dca30>, 'Connection to pypi.tuna.tsinghua.edu.cn timed out. (connect timeout=15)')': /simple/install/\u001b[0m\u001b[33m\n",
      "\u001b[0m\u001b[33mWARNING: Retrying (Retry(total=1, connect=None, read=None, redirect=None, status=None)) after connection broken by 'ConnectTimeoutError(<pip._vendor.urllib3.connection.HTTPSConnection object at 0x7fb9769ba130>, 'Connection to pypi.tuna.tsinghua.edu.cn timed out. (connect timeout=15)')': /simple/install/\u001b[0m\u001b[33m\n",
      "\u001b[0m\u001b[33mWARNING: Retrying (Retry(total=0, connect=None, read=None, redirect=None, status=None)) after connection broken by 'ConnectTimeoutError(<pip._vendor.urllib3.connection.HTTPSConnection object at 0x7fb9769baa60>, 'Connection to pypi.tuna.tsinghua.edu.cn timed out. (connect timeout=15)')': /simple/install/\u001b[0m\u001b[33m\n",
      "\u001b[0m\u001b[31mERROR: Could not find a version that satisfies the requirement install (from versions: none)\u001b[0m\u001b[31m\n",
      "\u001b[0m\u001b[31mERROR: No matching distribution found for install\u001b[0m\u001b[31m\n",
      "\u001b[0m"
     ]
    }
   ],
   "source": [
    "# 安装Pytorch\n",
    "proxy_on\n",
    "!pip3 install install torch==1.10.1+cu113 torchvision==0.11.2+cu113 torchaudio==0.10.1+cu113 -f https://download.pytorch.org/whl/cu113/torch_stable.html\n"
   ]
  },
  {
   "cell_type": "markdown",
   "id": "054b64e4-4796-4136-b45e-3664b281cf30",
   "metadata": {},
   "source": [
    "## 安装MMCV和MMEngine环境"
   ]
  },
  {
   "cell_type": "code",
   "execution_count": 2,
   "id": "3fab4b08-7b45-4c82-923c-b08b680d1c76",
   "metadata": {},
   "outputs": [
    {
     "name": "stdout",
     "output_type": "stream",
     "text": [
      "Looking in indexes: https://pypi.tuna.tsinghua.edu.cn/simple\n"
     ]
    }
   ],
   "source": [
    "!pip3 install openmim\n",
    "!mim install 'mmcv>=2.0.0'\n",
    "!mim install 'mmengine'"
   ]
  },
  {
   "cell_type": "markdown",
   "id": "7a5136fe-fbcf-40cc-9f69-c3f40cb05115",
   "metadata": {},
   "source": [
    "## 安装MMagic"
   ]
  },
  {
   "cell_type": "code",
   "execution_count": null,
   "id": "14d6ccd9-e012-4f5e-af82-fe611e8993a2",
   "metadata": {},
   "outputs": [],
   "source": [
    "!mim install 'mmagic'"
   ]
  },
  {
   "cell_type": "markdown",
   "id": "b73f2d19-8c83-427f-b743-793e52b89ff3",
   "metadata": {},
   "source": [
    "## 从源码安装MMagic"
   ]
  },
  {
   "cell_type": "code",
   "execution_count": null,
   "id": "15b131cb-470e-4ff1-9009-c1b459261401",
   "metadata": {},
   "outputs": [
    {
     "name": "stdout",
     "output_type": "stream",
     "text": [
      "Cloning into 'mmagic'...\n",
      "remote: Enumerating objects: 25612, done.\u001b[K\n",
      "remote: Counting objects: 100% (3576/3576), done.\u001b[K\n",
      "remote: Compressing objects: 100% (1541/1541), done.\u001b[K\n",
      "remote: Total 25612 (delta 1993), reused 3192 (delta 1982), pack-reused 22036\u001b[K\n",
      "Receiving objects: 100% (25612/25612), 21.58 MiB | 9.79 MiB/s, done.\n",
      "Resolving deltas: 100% (17145/17145), done.\n"
     ]
    }
   ],
   "source": [
    "!rm -rf mmagic # 删除原有的 mmagic 文件夹（如有）\n",
    "\n",
    "!git clone https://github.com/open-mmlab/mmagic.git # 下载 mmagic 源代码"
   ]
  },
  {
   "cell_type": "code",
   "execution_count": null,
   "id": "0f4d5369-2fad-4d58-9afe-503d5bb9c551",
   "metadata": {},
   "outputs": [],
   "source": [
    "import os\n",
    "os.chdir('mmagic')"
   ]
  },
  {
   "cell_type": "code",
   "execution_count": null,
   "id": "db3fe2af-f055-46ab-aba6-1a3172db8d64",
   "metadata": {},
   "outputs": [
    {
     "name": "stdout",
     "output_type": "stream",
     "text": [
      "Looking in indexes: https://pypi.tuna.tsinghua.edu.cn/simple\n",
      "Obtaining file:///home/featurize/work/MMagic%E6%95%99%E7%A8%8B/mmagic\n",
      "  Preparing metadata (setup.py) ... \u001b[?25ldone\n",
      "\u001b[?25hRequirement already satisfied: av in /environment/miniconda3/lib/python3.8/site-packages (from mmagic==1.0.2.dev0) (10.0.0)\n",
      "Requirement already satisfied: click in /environment/miniconda3/lib/python3.8/site-packages (from mmagic==1.0.2.dev0) (7.1.2)\n",
      "Requirement already satisfied: controlnet_aux in /environment/miniconda3/lib/python3.8/site-packages (from mmagic==1.0.2.dev0) (0.0.5)\n",
      "Requirement already satisfied: diffusers>=0.12.0 in /environment/miniconda3/lib/python3.8/site-packages (from mmagic==1.0.2.dev0) (0.17.1)\n",
      "Requirement already satisfied: einops in /environment/miniconda3/lib/python3.8/site-packages (from mmagic==1.0.2.dev0) (0.6.1)\n",
      "Requirement already satisfied: face-alignment<=1.3.4 in /environment/miniconda3/lib/python3.8/site-packages (from mmagic==1.0.2.dev0) (1.3.4)\n",
      "Requirement already satisfied: facexlib in /environment/miniconda3/lib/python3.8/site-packages (from mmagic==1.0.2.dev0) (0.3.0)\n",
      "Requirement already satisfied: lmdb in /environment/miniconda3/lib/python3.8/site-packages (from mmagic==1.0.2.dev0) (1.4.1)\n",
      "Requirement already satisfied: lpips in /environment/miniconda3/lib/python3.8/site-packages (from mmagic==1.0.2.dev0) (0.1.4)\n",
      "Requirement already satisfied: mediapipe in /environment/miniconda3/lib/python3.8/site-packages (from mmagic==1.0.2.dev0) (0.10.1)\n",
      "Requirement already satisfied: numpy in /environment/miniconda3/lib/python3.8/site-packages (from mmagic==1.0.2.dev0) (1.24.1)\n",
      "Requirement already satisfied: opencv-python!=4.5.5.62,!=4.5.5.64 in /environment/miniconda3/lib/python3.8/site-packages (from mmagic==1.0.2.dev0) (4.7.0.72)\n",
      "Requirement already satisfied: pandas in /environment/miniconda3/lib/python3.8/site-packages (from mmagic==1.0.2.dev0) (1.5.3)\n",
      "Requirement already satisfied: Pillow in /environment/miniconda3/lib/python3.8/site-packages (from mmagic==1.0.2.dev0) (9.3.0)\n",
      "Requirement already satisfied: resize_right in /environment/miniconda3/lib/python3.8/site-packages (from mmagic==1.0.2.dev0) (0.0.2)\n",
      "Requirement already satisfied: tensorboard in /environment/miniconda3/lib/python3.8/site-packages (from mmagic==1.0.2.dev0) (2.11.2)\n",
      "Requirement already satisfied: transformers>=4.27.4 in /environment/miniconda3/lib/python3.8/site-packages (from mmagic==1.0.2.dev0) (4.30.1)\n",
      "Requirement already satisfied: requests in /environment/miniconda3/lib/python3.8/site-packages (from diffusers>=0.12.0->mmagic==1.0.2.dev0) (2.24.0)\n",
      "Requirement already satisfied: importlib-metadata in /environment/miniconda3/lib/python3.8/site-packages (from diffusers>=0.12.0->mmagic==1.0.2.dev0) (6.0.0)\n",
      "Requirement already satisfied: huggingface-hub>=0.13.2 in /environment/miniconda3/lib/python3.8/site-packages (from diffusers>=0.12.0->mmagic==1.0.2.dev0) (0.15.1)\n",
      "Requirement already satisfied: regex!=2019.12.17 in /environment/miniconda3/lib/python3.8/site-packages (from diffusers>=0.12.0->mmagic==1.0.2.dev0) (2022.10.31)\n",
      "Requirement already satisfied: filelock in /environment/miniconda3/lib/python3.8/site-packages (from diffusers>=0.12.0->mmagic==1.0.2.dev0) (3.9.0)\n",
      "Requirement already satisfied: scikit-image in /environment/miniconda3/lib/python3.8/site-packages (from face-alignment<=1.3.4->mmagic==1.0.2.dev0) (0.21.0)\n",
      "Requirement already satisfied: torch in /environment/miniconda3/lib/python3.8/site-packages (from face-alignment<=1.3.4->mmagic==1.0.2.dev0) (1.10.1+cu113)\n",
      "Requirement already satisfied: tqdm in /environment/miniconda3/lib/python3.8/site-packages (from face-alignment<=1.3.4->mmagic==1.0.2.dev0) (4.61.2)\n",
      "Requirement already satisfied: scipy>=0.17 in /environment/miniconda3/lib/python3.8/site-packages (from face-alignment<=1.3.4->mmagic==1.0.2.dev0) (1.10.1)\n",
      "Requirement already satisfied: numba in /environment/miniconda3/lib/python3.8/site-packages (from face-alignment<=1.3.4->mmagic==1.0.2.dev0) (0.57.0)\n",
      "Requirement already satisfied: tokenizers!=0.11.3,<0.14,>=0.11.1 in /environment/miniconda3/lib/python3.8/site-packages (from transformers>=4.27.4->mmagic==1.0.2.dev0) (0.13.2)\n",
      "Requirement already satisfied: safetensors>=0.3.1 in /environment/miniconda3/lib/python3.8/site-packages (from transformers>=4.27.4->mmagic==1.0.2.dev0) (0.3.1)\n",
      "Requirement already satisfied: pyyaml>=5.1 in /environment/miniconda3/lib/python3.8/site-packages (from transformers>=4.27.4->mmagic==1.0.2.dev0) (6.0)\n",
      "Requirement already satisfied: packaging>=20.0 in /environment/miniconda3/lib/python3.8/site-packages (from transformers>=4.27.4->mmagic==1.0.2.dev0) (23.0)\n",
      "Requirement already satisfied: timm in /environment/miniconda3/lib/python3.8/site-packages (from controlnet_aux->mmagic==1.0.2.dev0) (0.6.12)\n",
      "Requirement already satisfied: torchvision in /environment/miniconda3/lib/python3.8/site-packages (from controlnet_aux->mmagic==1.0.2.dev0) (0.11.2+cu113)\n",
      "Requirement already satisfied: filterpy in /environment/miniconda3/lib/python3.8/site-packages (from facexlib->mmagic==1.0.2.dev0) (1.4.5)\n",
      "Requirement already satisfied: opencv-contrib-python in /environment/miniconda3/lib/python3.8/site-packages (from mediapipe->mmagic==1.0.2.dev0) (4.7.0.72)\n",
      "Requirement already satisfied: matplotlib in /environment/miniconda3/lib/python3.8/site-packages (from mediapipe->mmagic==1.0.2.dev0) (3.7.1)\n",
      "Requirement already satisfied: absl-py in /environment/miniconda3/lib/python3.8/site-packages (from mediapipe->mmagic==1.0.2.dev0) (1.4.0)\n",
      "Requirement already satisfied: protobuf<4,>=3.11 in /environment/miniconda3/lib/python3.8/site-packages (from mediapipe->mmagic==1.0.2.dev0) (3.19.6)\n",
      "Requirement already satisfied: attrs>=19.1.0 in /environment/miniconda3/lib/python3.8/site-packages (from mediapipe->mmagic==1.0.2.dev0) (22.2.0)\n",
      "Requirement already satisfied: flatbuffers>=2.0 in /environment/miniconda3/lib/python3.8/site-packages (from mediapipe->mmagic==1.0.2.dev0) (23.3.3)\n",
      "Requirement already satisfied: sounddevice>=0.4.4 in /environment/miniconda3/lib/python3.8/site-packages (from mediapipe->mmagic==1.0.2.dev0) (0.4.6)\n",
      "Requirement already satisfied: pytz>=2020.1 in /environment/miniconda3/lib/python3.8/site-packages (from pandas->mmagic==1.0.2.dev0) (2022.7.1)\n",
      "Requirement already satisfied: python-dateutil>=2.8.1 in /environment/miniconda3/lib/python3.8/site-packages (from pandas->mmagic==1.0.2.dev0) (2.8.2)\n",
      "Requirement already satisfied: tensorboard-plugin-wit>=1.6.0 in /environment/miniconda3/lib/python3.8/site-packages (from tensorboard->mmagic==1.0.2.dev0) (1.8.1)\n",
      "Requirement already satisfied: google-auth-oauthlib<0.5,>=0.4.1 in /environment/miniconda3/lib/python3.8/site-packages (from tensorboard->mmagic==1.0.2.dev0) (0.4.6)\n",
      "Requirement already satisfied: tensorboard-data-server<0.7.0,>=0.6.0 in /environment/miniconda3/lib/python3.8/site-packages (from tensorboard->mmagic==1.0.2.dev0) (0.6.1)\n",
      "Requirement already satisfied: werkzeug>=1.0.1 in /environment/miniconda3/lib/python3.8/site-packages (from tensorboard->mmagic==1.0.2.dev0) (2.2.3)\n",
      "Requirement already satisfied: markdown>=2.6.8 in /environment/miniconda3/lib/python3.8/site-packages (from tensorboard->mmagic==1.0.2.dev0) (3.4.1)\n",
      "Requirement already satisfied: grpcio>=1.24.3 in /environment/miniconda3/lib/python3.8/site-packages (from tensorboard->mmagic==1.0.2.dev0) (1.51.3)\n",
      "Requirement already satisfied: setuptools>=41.0.0 in /environment/miniconda3/lib/python3.8/site-packages (from tensorboard->mmagic==1.0.2.dev0) (65.6.3)\n",
      "Requirement already satisfied: google-auth<3,>=1.6.3 in /environment/miniconda3/lib/python3.8/site-packages (from tensorboard->mmagic==1.0.2.dev0) (2.16.2)\n",
      "Requirement already satisfied: wheel>=0.26 in /environment/miniconda3/lib/python3.8/site-packages (from tensorboard->mmagic==1.0.2.dev0) (0.36.2)\n",
      "Requirement already satisfied: six>=1.9.0 in /environment/miniconda3/lib/python3.8/site-packages (from google-auth<3,>=1.6.3->tensorboard->mmagic==1.0.2.dev0) (1.16.0)\n",
      "Requirement already satisfied: pyasn1-modules>=0.2.1 in /environment/miniconda3/lib/python3.8/site-packages (from google-auth<3,>=1.6.3->tensorboard->mmagic==1.0.2.dev0) (0.2.8)\n",
      "Requirement already satisfied: cachetools<6.0,>=2.0.0 in /environment/miniconda3/lib/python3.8/site-packages (from google-auth<3,>=1.6.3->tensorboard->mmagic==1.0.2.dev0) (5.3.0)\n",
      "Requirement already satisfied: rsa<5,>=3.1.4 in /environment/miniconda3/lib/python3.8/site-packages (from google-auth<3,>=1.6.3->tensorboard->mmagic==1.0.2.dev0) (4.9)\n",
      "Requirement already satisfied: requests-oauthlib>=0.7.0 in /environment/miniconda3/lib/python3.8/site-packages (from google-auth-oauthlib<0.5,>=0.4.1->tensorboard->mmagic==1.0.2.dev0) (1.3.1)\n",
      "Requirement already satisfied: fsspec in /environment/miniconda3/lib/python3.8/site-packages (from huggingface-hub>=0.13.2->diffusers>=0.12.0->mmagic==1.0.2.dev0) (2023.6.0)\n",
      "Requirement already satisfied: typing-extensions>=3.7.4.3 in /environment/miniconda3/lib/python3.8/site-packages (from huggingface-hub>=0.13.2->diffusers>=0.12.0->mmagic==1.0.2.dev0) (4.5.0)\n",
      "Requirement already satisfied: zipp>=0.5 in /environment/miniconda3/lib/python3.8/site-packages (from importlib-metadata->diffusers>=0.12.0->mmagic==1.0.2.dev0) (3.15.0)\n",
      "Requirement already satisfied: idna<3,>=2.5 in /environment/miniconda3/lib/python3.8/site-packages (from requests->diffusers>=0.12.0->mmagic==1.0.2.dev0) (2.10)\n",
      "Requirement already satisfied: chardet<4,>=3.0.2 in /environment/miniconda3/lib/python3.8/site-packages (from requests->diffusers>=0.12.0->mmagic==1.0.2.dev0) (3.0.4)\n",
      "Requirement already satisfied: certifi>=2017.4.17 in /environment/miniconda3/lib/python3.8/site-packages (from requests->diffusers>=0.12.0->mmagic==1.0.2.dev0) (2022.12.7)\n",
      "Requirement already satisfied: urllib3!=1.25.0,!=1.25.1,<1.26,>=1.21.1 in /environment/miniconda3/lib/python3.8/site-packages (from requests->diffusers>=0.12.0->mmagic==1.0.2.dev0) (1.25.11)\n",
      "Requirement already satisfied: CFFI>=1.0 in /environment/miniconda3/lib/python3.8/site-packages (from sounddevice>=0.4.4->mediapipe->mmagic==1.0.2.dev0) (1.15.0)\n",
      "Requirement already satisfied: MarkupSafe>=2.1.1 in /environment/miniconda3/lib/python3.8/site-packages (from werkzeug>=1.0.1->tensorboard->mmagic==1.0.2.dev0) (2.1.2)\n",
      "Requirement already satisfied: fonttools>=4.22.0 in /environment/miniconda3/lib/python3.8/site-packages (from matplotlib->mediapipe->mmagic==1.0.2.dev0) (4.39.2)\n",
      "Requirement already satisfied: cycler>=0.10 in /environment/miniconda3/lib/python3.8/site-packages (from matplotlib->mediapipe->mmagic==1.0.2.dev0) (0.11.0)\n",
      "Requirement already satisfied: contourpy>=1.0.1 in /environment/miniconda3/lib/python3.8/site-packages (from matplotlib->mediapipe->mmagic==1.0.2.dev0) (1.0.7)\n",
      "Requirement already satisfied: importlib-resources>=3.2.0 in /environment/miniconda3/lib/python3.8/site-packages (from matplotlib->mediapipe->mmagic==1.0.2.dev0) (5.12.0)\n",
      "Requirement already satisfied: kiwisolver>=1.0.1 in /environment/miniconda3/lib/python3.8/site-packages (from matplotlib->mediapipe->mmagic==1.0.2.dev0) (1.4.4)\n",
      "Requirement already satisfied: pyparsing>=2.3.1 in /environment/miniconda3/lib/python3.8/site-packages (from matplotlib->mediapipe->mmagic==1.0.2.dev0) (3.0.9)\n",
      "Requirement already satisfied: llvmlite<0.41,>=0.40.0dev0 in /environment/miniconda3/lib/python3.8/site-packages (from numba->face-alignment<=1.3.4->mmagic==1.0.2.dev0) (0.40.1rc1)\n",
      "Requirement already satisfied: imageio>=2.27 in /environment/miniconda3/lib/python3.8/site-packages (from scikit-image->face-alignment<=1.3.4->mmagic==1.0.2.dev0) (2.31.1)\n",
      "Requirement already satisfied: networkx>=2.8 in /environment/miniconda3/lib/python3.8/site-packages (from scikit-image->face-alignment<=1.3.4->mmagic==1.0.2.dev0) (3.0)\n",
      "Requirement already satisfied: PyWavelets>=1.1.1 in /environment/miniconda3/lib/python3.8/site-packages (from scikit-image->face-alignment<=1.3.4->mmagic==1.0.2.dev0) (1.4.1)\n",
      "Requirement already satisfied: lazy_loader>=0.2 in /environment/miniconda3/lib/python3.8/site-packages (from scikit-image->face-alignment<=1.3.4->mmagic==1.0.2.dev0) (0.2)\n",
      "Requirement already satisfied: tifffile>=2022.8.12 in /environment/miniconda3/lib/python3.8/site-packages (from scikit-image->face-alignment<=1.3.4->mmagic==1.0.2.dev0) (2023.4.12)\n",
      "Requirement already satisfied: pycparser in /environment/miniconda3/lib/python3.8/site-packages (from CFFI>=1.0->sounddevice>=0.4.4->mediapipe->mmagic==1.0.2.dev0) (2.20)\n",
      "Requirement already satisfied: pyasn1<0.5.0,>=0.4.6 in /environment/miniconda3/lib/python3.8/site-packages (from pyasn1-modules>=0.2.1->google-auth<3,>=1.6.3->tensorboard->mmagic==1.0.2.dev0) (0.4.8)\n",
      "Requirement already satisfied: oauthlib>=3.0.0 in /environment/miniconda3/lib/python3.8/site-packages (from requests-oauthlib>=0.7.0->google-auth-oauthlib<0.5,>=0.4.1->tensorboard->mmagic==1.0.2.dev0) (3.2.2)\n",
      "Installing collected packages: mmagic\n",
      "  Running setup.py develop for mmagic\n",
      "Successfully installed mmagic-1.0.2.dev0\n"
     ]
    }
   ],
   "source": [
    "!pip3 install -e ."
   ]
  },
  {
   "cell_type": "markdown",
   "id": "fa97e1da-f245-4d32-892d-dec07a6b2c16",
   "metadata": {},
   "source": [
    "## 检查安装成功"
   ]
  },
  {
   "cell_type": "code",
   "execution_count": null,
   "id": "424fca02-13cc-493f-8833-ec63900f02d3",
   "metadata": {},
   "outputs": [
    {
     "name": "stdout",
     "output_type": "stream",
     "text": [
      "Pytorch 版本 1.10.1+cu113\n",
      "CUDA 是否可用 True\n"
     ]
    }
   ],
   "source": [
    "# 检查 Pytorch\n",
    "import torch, torchvision\n",
    "print('Pytorch 版本', torch.__version__)\n",
    "print('CUDA 是否可用',torch.cuda.is_available())"
   ]
  },
  {
   "cell_type": "code",
   "execution_count": null,
   "id": "96a6e738-d9d3-4e9f-a053-15bf2f29d43b",
   "metadata": {},
   "outputs": [
    {
     "name": "stdout",
     "output_type": "stream",
     "text": [
      "MMCV版本 2.0.0\n",
      "CUDA版本 11.3\n",
      "编译器版本 GCC 9.3\n"
     ]
    }
   ],
   "source": [
    "# 检查 mmcv\n",
    "import mmcv\n",
    "from mmcv.ops import get_compiling_cuda_version, get_compiler_version\n",
    "print('MMCV版本', mmcv.__version__)\n",
    "print('CUDA版本', get_compiling_cuda_version())\n",
    "print('编译器版本', get_compiler_version())"
   ]
  },
  {
   "cell_type": "code",
   "execution_count": null,
   "id": "dae8b28c-fa1f-4911-ba27-50ed745e9679",
   "metadata": {},
   "outputs": [
    {
     "name": "stdout",
     "output_type": "stream",
     "text": [
      "MMagic版本 1.0.2dev0\n"
     ]
    }
   ],
   "source": [
    "# 检查 mmagic\n",
    "import mmagic\n",
    "print('MMagic版本', mmagic.__version__)"
   ]
  },
  {
   "cell_type": "markdown",
   "id": "6f89f196-6f70-46a5-9715-ee4755717c13",
   "metadata": {},
   "source": [
    "没有报错，即证明安装成功。"
   ]
  },
  {
   "cell_type": "markdown",
   "id": "da2a0e3b-ecf3-4a83-b754-81f6c91d153f",
   "metadata": {},
   "source": [
    "## 安装其它工具包"
   ]
  },
  {
   "cell_type": "code",
   "execution_count": null,
   "id": "884d718c-5165-47a7-9f9c-6cbc85c7c118",
   "metadata": {},
   "outputs": [
    {
     "name": "stdout",
     "output_type": "stream",
     "text": [
      "Looking in indexes: https://pypi.tuna.tsinghua.edu.cn/simple\n",
      "Requirement already satisfied: opencv-python in /environment/miniconda3/lib/python3.8/site-packages (4.7.0.72)\n",
      "Requirement already satisfied: pillow in /environment/miniconda3/lib/python3.8/site-packages (9.3.0)\n",
      "Requirement already satisfied: matplotlib in /environment/miniconda3/lib/python3.8/site-packages (3.7.1)\n",
      "Requirement already satisfied: seaborn in /environment/miniconda3/lib/python3.8/site-packages (0.12.2)\n",
      "Requirement already satisfied: tqdm in /environment/miniconda3/lib/python3.8/site-packages (4.61.2)\n",
      "Requirement already satisfied: numpy>=1.17.3 in /environment/miniconda3/lib/python3.8/site-packages (from opencv-python) (1.24.1)\n",
      "Requirement already satisfied: pyparsing>=2.3.1 in /environment/miniconda3/lib/python3.8/site-packages (from matplotlib) (3.0.9)\n",
      "Requirement already satisfied: python-dateutil>=2.7 in /environment/miniconda3/lib/python3.8/site-packages (from matplotlib) (2.8.2)\n",
      "Requirement already satisfied: fonttools>=4.22.0 in /environment/miniconda3/lib/python3.8/site-packages (from matplotlib) (4.39.2)\n",
      "Requirement already satisfied: kiwisolver>=1.0.1 in /environment/miniconda3/lib/python3.8/site-packages (from matplotlib) (1.4.4)\n",
      "Requirement already satisfied: packaging>=20.0 in /environment/miniconda3/lib/python3.8/site-packages (from matplotlib) (23.0)\n",
      "Requirement already satisfied: contourpy>=1.0.1 in /environment/miniconda3/lib/python3.8/site-packages (from matplotlib) (1.0.7)\n",
      "Requirement already satisfied: importlib-resources>=3.2.0 in /environment/miniconda3/lib/python3.8/site-packages (from matplotlib) (5.12.0)\n",
      "Requirement already satisfied: cycler>=0.10 in /environment/miniconda3/lib/python3.8/site-packages (from matplotlib) (0.11.0)\n",
      "Requirement already satisfied: pandas>=0.25 in /environment/miniconda3/lib/python3.8/site-packages (from seaborn) (1.5.3)\n",
      "Requirement already satisfied: zipp>=3.1.0 in /environment/miniconda3/lib/python3.8/site-packages (from importlib-resources>=3.2.0->matplotlib) (3.15.0)\n",
      "Requirement already satisfied: pytz>=2020.1 in /environment/miniconda3/lib/python3.8/site-packages (from pandas>=0.25->seaborn) (2022.7.1)\n",
      "Requirement already satisfied: six>=1.5 in /environment/miniconda3/lib/python3.8/site-packages (from python-dateutil>=2.7->matplotlib) (1.16.0)\n",
      "Looking in indexes: https://pypi.tuna.tsinghua.edu.cn/simple\n",
      "Requirement already satisfied: clip in /environment/miniconda3/lib/python3.8/site-packages (0.2.0)\n",
      "Requirement already satisfied: transformers in /environment/miniconda3/lib/python3.8/site-packages (4.30.1)\n",
      "Collecting accelerate\n",
      "  Downloading https://pypi.tuna.tsinghua.edu.cn/packages/10/d3/5382aa337d3e67214003a17b06bfc07cf0334356b4e8aaf3b12b0d38c83f/accelerate-0.20.3-py3-none-any.whl (227 kB)\n",
      "\u001b[2K     \u001b[90m━━━━━━━━━━━━━━━━━━━━━━━━━━━━━━━━━━━━━━━\u001b[0m \u001b[32m227.6/227.6 kB\u001b[0m \u001b[31m1.1 MB/s\u001b[0m eta \u001b[36m0:00:00\u001b[0ma \u001b[36m0:00:01\u001b[0m\n",
      "\u001b[?25hRequirement already satisfied: tqdm>=4.27 in /environment/miniconda3/lib/python3.8/site-packages (from transformers) (4.61.2)\n",
      "Requirement already satisfied: regex!=2019.12.17 in /environment/miniconda3/lib/python3.8/site-packages (from transformers) (2022.10.31)\n",
      "Requirement already satisfied: huggingface-hub<1.0,>=0.14.1 in /environment/miniconda3/lib/python3.8/site-packages (from transformers) (0.15.1)\n",
      "Requirement already satisfied: tokenizers!=0.11.3,<0.14,>=0.11.1 in /environment/miniconda3/lib/python3.8/site-packages (from transformers) (0.13.2)\n",
      "Requirement already satisfied: packaging>=20.0 in /environment/miniconda3/lib/python3.8/site-packages (from transformers) (23.0)\n",
      "Requirement already satisfied: filelock in /environment/miniconda3/lib/python3.8/site-packages (from transformers) (3.9.0)\n",
      "Requirement already satisfied: pyyaml>=5.1 in /environment/miniconda3/lib/python3.8/site-packages (from transformers) (6.0)\n",
      "Requirement already satisfied: requests in /environment/miniconda3/lib/python3.8/site-packages (from transformers) (2.24.0)\n",
      "Requirement already satisfied: numpy>=1.17 in /environment/miniconda3/lib/python3.8/site-packages (from transformers) (1.24.1)\n",
      "Requirement already satisfied: safetensors>=0.3.1 in /environment/miniconda3/lib/python3.8/site-packages (from transformers) (0.3.1)\n",
      "Requirement already satisfied: psutil in /environment/miniconda3/lib/python3.8/site-packages (from accelerate) (5.9.4)\n",
      "Requirement already satisfied: torch>=1.6.0 in /environment/miniconda3/lib/python3.8/site-packages (from accelerate) (1.10.1+cu113)\n",
      "Requirement already satisfied: fsspec in /environment/miniconda3/lib/python3.8/site-packages (from huggingface-hub<1.0,>=0.14.1->transformers) (2023.6.0)\n",
      "Requirement already satisfied: typing-extensions>=3.7.4.3 in /environment/miniconda3/lib/python3.8/site-packages (from huggingface-hub<1.0,>=0.14.1->transformers) (4.5.0)\n",
      "Requirement already satisfied: chardet<4,>=3.0.2 in /environment/miniconda3/lib/python3.8/site-packages (from requests->transformers) (3.0.4)\n",
      "Requirement already satisfied: urllib3!=1.25.0,!=1.25.1,<1.26,>=1.21.1 in /environment/miniconda3/lib/python3.8/site-packages (from requests->transformers) (1.25.11)\n",
      "Requirement already satisfied: idna<3,>=2.5 in /environment/miniconda3/lib/python3.8/site-packages (from requests->transformers) (2.10)\n",
      "Requirement already satisfied: certifi>=2017.4.17 in /environment/miniconda3/lib/python3.8/site-packages (from requests->transformers) (2022.12.7)\n",
      "Installing collected packages: accelerate\n",
      "Successfully installed accelerate-0.20.3\n"
     ]
    }
   ],
   "source": [
    "!pip install opencv-python pillow matplotlib seaborn tqdm -i https://pypi.tuna.tsinghua.edu.cn/simple\n",
    "!pip install clip transformers gradio 'httpx[socks]' diffusers==0.14.0 -i https://pypi.tuna.tsinghua.edu.cn/simple\n",
    "!mim install 'mmdet>=3.0.0'"
   ]
  },
  {
   "cell_type": "code",
   "execution_count": null,
   "id": "4e169bd4-5830-47f2-8bb6-b8da02637eda",
   "metadata": {},
   "outputs": [],
   "source": []
  }
 ],
 "metadata": {
  "kernelspec": {
   "display_name": "Python 3",
   "language": "python",
   "name": "python3"
  },
  "language_info": {
   "codemirror_mode": {
    "name": "ipython",
    "version": 3
   },
   "file_extension": ".py",
   "mimetype": "text/x-python",
   "name": "python",
   "nbconvert_exporter": "python",
   "pygments_lexer": "ipython3",
   "version": "3.6.8"
  },
  "vscode": {
   "interpreter": {
    "hash": "ce267657b6837f47d33f0b2122ba2a33317e0be6e0c92ea0faa9e718730d37ff"
   }
  }
 },
 "nbformat": 4,
 "nbformat_minor": 5
}
