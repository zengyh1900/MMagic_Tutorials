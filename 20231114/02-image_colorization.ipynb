{
 "cells": [
  {
   "cell_type": "markdown",
   "id": "4ee21f0c-c6f0-45a2-aa20-db8bbd47b377",
   "metadata": {},
   "source": [
    "# 黑白照片上色\n",
    "\n",
    "https://github.com/open-mmlab/mmagic/tree/main/configs/inst_colorization"
   ]
  },
  {
   "cell_type": "markdown",
   "id": "f57ecb4d-cff0-4597-817f-5c0707f630b1",
   "metadata": {},
   "source": [
    "## 查看 MMagicInferencer 支持的任务"
   ]
  },
  {
   "cell_type": "code",
   "execution_count": null,
   "id": "051a7e57-5da5-4498-b1e1-f63cb84eab49",
   "metadata": {},
   "outputs": [],
   "source": [
    "from mmagic.apis import MMagicInferencer\n",
    "\n",
    "# print all supported models for inference.\n",
    "inference_supported_models = MMagicInferencer.get_inference_supported_models()\n",
    "print('all supported models:')\n",
    "print(inference_supported_models)\n",
    "\n",
    "# print all supported tasks for inference.\n",
    "supported_tasks = MMagicInferencer.get_inference_supported_tasks()\n",
    "print('all supported tasks:')\n",
    "print(supported_tasks)\n",
    "\n",
    "# print all supported models for one task, take image translation for example.\n",
    "task_supported_models = MMagicInferencer.get_task_supported_models('Image2Image')\n",
    "print('translation models:')\n",
    "print(task_supported_models)"
   ]
  },
  {
   "cell_type": "markdown",
   "id": "c9c40db0",
   "metadata": {},
   "source": [
    "## 查看测试图片\n",
    "\n",
    "测试图片可从 https://zihao-openmmlab.obs.cn-east-3.myhuaweicloud.com/20230613-MMagic/data/test_colorization.jpg 下载得到"
   ]
  },
  {
   "cell_type": "code",
   "execution_count": null,
   "id": "0509b658-f1e6-4627-ba4a-814e3a5e4cbc",
   "metadata": {},
   "outputs": [],
   "source": [
    "from PIL import Image\n",
    "\n",
    "url = 'data/test_colorization.jpg'\n",
    "input_image = Image.open(url)\n",
    "input_image"
   ]
  },
  {
   "cell_type": "markdown",
   "id": "46565c1a",
   "metadata": {},
   "source": [
    "## 通过指定任务，来创建推理实例\n",
    "\n",
    "网络状况良好的情况下，可以直接根据任务创建推理接口"
   ]
  },
  {
   "cell_type": "code",
   "execution_count": null,
   "id": "0502fe9b-f3ea-4975-b4b0-9a22bbdeee53",
   "metadata": {},
   "outputs": [],
   "source": [
    "from mmagic.apis import MMagicInferencer\n",
    "\n",
    "inferencer = MMagicInferencer(model_name='inst_colorization')"
   ]
  },
  {
   "cell_type": "code",
   "execution_count": null,
   "id": "5a97bdaa-82eb-43ab-a6c8-148da162da1b",
   "metadata": {},
   "outputs": [],
   "source": [
    "output_image = inferencer.infer(\n",
    "    url, \n",
    "    result_out_dir='output/colorization_output1.png')\n"
   ]
  },
  {
   "cell_type": "code",
   "execution_count": null,
   "id": "ab447e8e",
   "metadata": {},
   "outputs": [],
   "source": [
    "from PIL import Image\n",
    "Image.open('output/colorization_output1.png')"
   ]
  },
  {
   "cell_type": "markdown",
   "id": "d6a9886a",
   "metadata": {},
   "source": [
    "## 通过指定配置文件和模型，来创建推理实例\n",
    "如果网络状况欠佳，可以提前下载配置文件和权重:\n",
    "1. [mask_rcnn](https://download.openmmlab.com/mmdetection/v2.0/mask_rcnn/mask_rcnn_x101_32x8d_fpn_mstrain-poly_3x_coco/mask_rcnn_x101_32x8d_fpn_mstrain-poly_3x_coco_20210607_161042-8bd2c6)\n",
    "2. [inst_colorization](https://download.openmmlab.com/mmediting/inst_colorization/inst-colorizatioon_full_official_cocostuff-256x256-5b9d4eee.pth)\n",
    "\n",
    "并为模型加载指定本地路径"
   ]
  },
  {
   "cell_type": "code",
   "execution_count": null,
   "id": "8e6b93f0",
   "metadata": {},
   "outputs": [],
   "source": [
    "from mmengine import Config\n",
    "from mmagic.apis.inferencers import ColorizationInferencer\n",
    "\n",
    "config = 'configs/inst-colorizatioon_full_official_cocostuff-256x256.py'\n",
    "config = Config.fromfile(config).copy()\n",
    "\n",
    "inferencer = MMagicInferencer(\n",
    "    model_name='inst_colorization',\n",
    "    model_config = config, \n",
    "    model_ckpt = 'data/inst-colorizatioon_full_official_cocostuff-256x256-5b9d4eee.pth')"
   ]
  },
  {
   "cell_type": "markdown",
   "id": "b1a794fd-2981-4709-9da5-f349d8a5073b",
   "metadata": {},
   "source": [
    "### 运行预测"
   ]
  },
  {
   "cell_type": "code",
   "execution_count": null,
   "id": "39de49aa",
   "metadata": {},
   "outputs": [],
   "source": [
    "output_image = inferencer.infer(\n",
    "    url, \n",
    "    result_out_dir='output/colorization_output2.png')\n"
   ]
  },
  {
   "cell_type": "code",
   "execution_count": null,
   "id": "fab64dba",
   "metadata": {},
   "outputs": [],
   "source": [
    "from PIL import Image\n",
    "Image.open('output/colorization_output2.png')"
   ]
  }
 ],
 "metadata": {
  "kernelspec": {
   "display_name": "tutorial",
   "language": "python",
   "name": "python3"
  },
  "language_info": {
   "codemirror_mode": {
    "name": "ipython",
    "version": 3
   },
   "file_extension": ".py",
   "mimetype": "text/x-python",
   "name": "python",
   "nbconvert_exporter": "python",
   "pygments_lexer": "ipython3",
   "version": "3.8.18 (default, Sep 11 2023, 13:40:15) \n[GCC 11.2.0]"
  },
  "vscode": {
   "interpreter": {
    "hash": "ce267657b6837f47d33f0b2122ba2a33317e0be6e0c92ea0faa9e718730d37ff"
   }
  }
 },
 "nbformat": 4,
 "nbformat_minor": 5
}
