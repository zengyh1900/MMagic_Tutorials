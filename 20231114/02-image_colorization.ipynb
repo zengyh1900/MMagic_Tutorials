{
 "cells": [
  {
   "cell_type": "markdown",
   "id": "4ee21f0c-c6f0-45a2-aa20-db8bbd47b377",
   "metadata": {},
   "source": [
    "# 黑白照片上色\n",
    "\n",
    "https://github.com/open-mmlab/mmagic/tree/main/configs/inst_colorization"
   ]
  },
  {
   "cell_type": "markdown",
   "id": "f57ecb4d-cff0-4597-817f-5c0707f630b1",
   "metadata": {},
   "source": [
    "## 进入 MMagic 主目录"
   ]
  },
  {
   "cell_type": "code",
   "execution_count": null,
   "id": "051a7e57-5da5-4498-b1e1-f63cb84eab49",
   "metadata": {},
   "outputs": [],
   "source": [
    "import os\n",
    "os.chdir('mmagic')"
   ]
  },
  {
   "cell_type": "markdown",
   "id": "a314c658-c9c3-43d1-b55c-4bf0237774aa",
   "metadata": {},
   "source": [
    "## 下载样例图片"
   ]
  },
  {
   "cell_type": "code",
   "execution_count": null,
   "id": "0509b658-f1e6-4627-ba4a-814e3a5e4cbc",
   "metadata": {},
   "outputs": [],
   "source": [
    "!wget https://zihao-openmmlab.obs.cn-east-3.myhuaweicloud.com/20230613-MMagic/data/test_colorization.jpg -O test_colorization.jpg"
   ]
  },
  {
   "cell_type": "markdown",
   "id": "b1a794fd-2981-4709-9da5-f349d8a5073b",
   "metadata": {},
   "source": [
    "## 运行预测"
   ]
  },
  {
   "cell_type": "code",
   "execution_count": null,
   "id": "0502fe9b-f3ea-4975-b4b0-9a22bbdeee53",
   "metadata": {},
   "outputs": [],
   "source": [
    "!python demo/mmagic_inference_demo.py \\\n",
    "        --model-name inst_colorization \\\n",
    "        --img test_colorization.jpg \\\n",
    "        --result-out-dir out_colorization.png"
   ]
  },
  {
   "cell_type": "code",
   "execution_count": null,
   "id": "5a97bdaa-82eb-43ab-a6c8-148da162da1b",
   "metadata": {},
   "outputs": [],
   "source": []
  }
 ],
 "metadata": {
  "kernelspec": {
   "display_name": "mmagic",
   "language": "python",
   "name": "python3"
  },
  "language_info": {
   "codemirror_mode": {
    "name": "ipython",
    "version": 3
   },
   "file_extension": ".py",
   "mimetype": "text/x-python",
   "name": "python",
   "nbconvert_exporter": "python",
   "pygments_lexer": "ipython3",
   "version": "3.10.0 (default, Mar  3 2022, 09:58:08) [GCC 7.5.0]"
  },
  "vscode": {
   "interpreter": {
    "hash": "8427a9e5acbab940df6c7c884b6e5dca6075b4a5bea483b75e9b99bf8a0b64e0"
   }
  }
 },
 "nbformat": 4,
 "nbformat_minor": 5
}
