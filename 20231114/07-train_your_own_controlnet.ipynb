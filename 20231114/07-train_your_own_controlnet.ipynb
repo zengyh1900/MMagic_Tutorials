{
 "cells": [
  {
   "cell_type": "markdown",
   "id": "f6b498ee-e1d2-4122-a7da-8539f2329e85",
   "metadata": {},
   "source": [
    "# 训练自己的ControlNet\n",
    "\n",
    "同济子豪兄 2023-6-13"
   ]
  },
  {
   "cell_type": "markdown",
   "id": "21b7510a-364d-470a-acb0-f980acad258e",
   "metadata": {},
   "source": [
    "## 进入 MMagic 主目录"
   ]
  },
  {
   "cell_type": "code",
   "execution_count": null,
   "id": "b821f26e-a832-48fd-a0b0-eebcf6e26905",
   "metadata": {},
   "outputs": [],
   "source": [
    "import os\n",
    "os.chdir('mmagic')"
   ]
  },
  {
   "cell_type": "markdown",
   "id": "f3809907-3eb9-42ba-ba90-5c5660c5aa2b",
   "metadata": {},
   "source": [
    "## 下载数据集"
   ]
  },
  {
   "cell_type": "code",
   "execution_count": null,
   "id": "13df051c-bc24-41ed-854e-9bfc278ff672",
   "metadata": {},
   "outputs": [],
   "source": [
    "!rm -rf fill50k.zip fill50k\n",
    "!wget https://huggingface.co/lllyasviel/ControlNet/blob/main/training/fill50k.zip\n",
    "!unzip fill50k.zip >> /dev/null # 解压压缩包\n",
    "!rm -rf fill50k.zip # 删除压缩包"
   ]
  },
  {
   "cell_type": "markdown",
   "id": "071c33da-561d-48dc-b6d7-ab68c33db4bd",
   "metadata": {},
   "source": [
    "## 训练"
   ]
  },
  {
   "cell_type": "code",
   "execution_count": null,
   "id": "11cd704d-5d4c-4a20-bdfd-64c91654d88e",
   "metadata": {},
   "outputs": [],
   "source": [
    "!bash tools/dist_train.sh configs/controlnet/controlnet-1xb1-demo_dataset 1"
   ]
  },
  {
   "cell_type": "code",
   "execution_count": null,
   "id": "a4c75b2c-3db9-4fe2-bae4-4256ee155d08",
   "metadata": {},
   "outputs": [],
   "source": []
  }
 ],
 "metadata": {
  "kernelspec": {
   "display_name": "tutorial",
   "language": "python",
   "name": "python3"
  },
  "language_info": {
   "codemirror_mode": {
    "name": "ipython",
    "version": 3
   },
   "file_extension": ".py",
   "mimetype": "text/x-python",
   "name": "python",
   "nbconvert_exporter": "python",
   "pygments_lexer": "ipython3",
   "version": "3.8.18 (default, Sep 11 2023, 13:40:15) \n[GCC 11.2.0]"
  },
  "vscode": {
   "interpreter": {
    "hash": "ce267657b6837f47d33f0b2122ba2a33317e0be6e0c92ea0faa9e718730d37ff"
   }
  }
 },
 "nbformat": 4,
 "nbformat_minor": 5
}
