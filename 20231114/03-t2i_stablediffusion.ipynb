{
 "cells": [
  {
   "cell_type": "markdown",
   "id": "f6cf2fed-70ce-4b62-b962-5bcf6cc6fc9d",
   "metadata": {},
   "source": [
    "# 文生图-Stable Diffusion\n",
    "\n",
    "https://github.com/open-mmlab/mmagic/tree/main/configs/stable_diffusion"
   ]
  },
  {
   "cell_type": "markdown",
   "id": "f8d8ea5b-3602-4960-a55e-4cf64dc1e9c8",
   "metadata": {},
   "source": [
    "## 指定Prompt文本"
   ]
  },
  {
   "cell_type": "code",
   "execution_count": null,
   "id": "838d83f7-03d5-4522-aa95-c0fbd701d3fc",
   "metadata": {},
   "outputs": [],
   "source": [
    "text_prompt1 = 'A panda is having dinner at KFC'\n",
    "\n",
    "text_prompt2 = 'A Persian cat walking in the streets of New York'"
   ]
  },
  {
   "cell_type": "markdown",
   "id": "cccac851",
   "metadata": {},
   "source": [
    "## 方案1. 自定义构造推理模型"
   ]
  },
  {
   "cell_type": "code",
   "execution_count": null,
   "id": "910c6b88",
   "metadata": {},
   "outputs": [],
   "source": [
    "\n",
    "# 提前下载好模型权重，并通过配置文件指定路径\n",
    "\n",
    "pretrained_model_path = 'data/runway_sd15'\n",
    "\n",
    "diffusion_scheduler = dict(\n",
    "    type='EditDDIMScheduler',\n",
    "    variance_type='learned_range',\n",
    "    beta_end=0.012,\n",
    "    beta_schedule='scaled_linear',\n",
    "    beta_start=0.00085,\n",
    "    num_train_timesteps=1000,\n",
    "    set_alpha_to_one=False,\n",
    "    clip_sample=False)\n",
    "unet = dict(\n",
    "    type='UNet2DConditionModel',\n",
    "    subfolder='unet',\n",
    "    from_pretrained=pretrained_model_path)\n",
    "vae = dict(\n",
    "    type='AutoencoderKL',\n",
    "    from_pretrained=pretrained_model_path,\n",
    "    subfolder='vae')\n",
    "\n",
    "model = dict(\n",
    "    type='StableDiffusion',\n",
    "    unet=unet,\n",
    "    vae=vae,\n",
    "    enable_xformers=False,\n",
    "    text_encoder=dict(\n",
    "        type='ClipWrapper',\n",
    "        clip_type='huggingface',\n",
    "        pretrained_model_name_or_path=pretrained_model_path,\n",
    "        subfolder='text_encoder'),\n",
    "    tokenizer=pretrained_model_path,\n",
    "    scheduler=diffusion_scheduler,\n",
    "    test_scheduler=diffusion_scheduler)"
   ]
  },
  {
   "cell_type": "markdown",
   "id": "e78cd46a",
   "metadata": {},
   "source": [
    "### 实例化模型"
   ]
  },
  {
   "cell_type": "code",
   "execution_count": null,
   "id": "371c2dea",
   "metadata": {},
   "outputs": [],
   "source": [
    "from mmengine import MODELS \n",
    "from mmengine.registry import init_default_scope \n",
    "\n",
    "init_default_scope('mmagic')\n",
    "\n",
    "StableDiffuser = MODELS.build(model)\n",
    "StableDiffuser = StableDiffuser.to('cuda')"
   ]
  },
  {
   "cell_type": "markdown",
   "id": "1cd59eea-7b33-41e9-8513-7ba23e100094",
   "metadata": {},
   "source": [
    "### 执行推理"
   ]
  },
  {
   "cell_type": "code",
   "execution_count": null,
   "id": "cb58c536",
   "metadata": {},
   "outputs": [],
   "source": [
    "image = StableDiffuser.infer(text_prompt1)['samples'][0]\n",
    "image"
   ]
  },
  {
   "cell_type": "code",
   "execution_count": null,
   "id": "a7ddce94",
   "metadata": {},
   "outputs": [],
   "source": [
    "image = StableDiffuser.infer(text_prompt2)['samples'][0]\n",
    "image"
   ]
  },
  {
   "cell_type": "markdown",
   "id": "dc5783f1-d6b5-48b5-9775-6b98b39db632",
   "metadata": {},
   "source": [
    "## 方案 2. 通过 Inferencer，载入Stable Diffusion模型"
   ]
  },
  {
   "cell_type": "markdown",
   "id": "20c167ef",
   "metadata": {},
   "source": [
    "网络情况良好时，可尝试该方案\n",
    "\n",
    "只需要通过指定模型名称来实例化推理接口\n",
    "初次执行，可能需要一段时间等待模型下载，属于正常情况"
   ]
  },
  {
   "cell_type": "code",
   "execution_count": null,
   "id": "d941f0ef-36d2-4de9-90a2-f78c998b41dd",
   "metadata": {},
   "outputs": [],
   "source": [
    "# 构建推理接口\n",
    "\n",
    "from mmagic.apis import MMagicInferencer\n",
    "sd_inferencer = MMagicInferencer(model_name='stable_diffusion')\n"
   ]
  },
  {
   "cell_type": "markdown",
   "id": "38187031",
   "metadata": {},
   "source": [
    "### 执行推理"
   ]
  },
  {
   "cell_type": "code",
   "execution_count": null,
   "id": "6b26ec3a-0a40-4d15-b6f6-3a428612f016",
   "metadata": {},
   "outputs": [],
   "source": [
    "image = sd_inferencer.infer(text=text_prompt1, result_out_dir='output/sd_res.png')[1]\n",
    "image"
   ]
  },
  {
   "cell_type": "code",
   "execution_count": null,
   "id": "53eb258c",
   "metadata": {},
   "outputs": [],
   "source": [
    "image = sd_inferencer.infer(text=text_prompt2, result_out_dir='output/sd_res.png')[1]\n",
    "image"
   ]
  }
 ],
 "metadata": {
  "kernelspec": {
   "display_name": "tutorial",
   "language": "python",
   "name": "python3"
  },
  "language_info": {
   "codemirror_mode": {
    "name": "ipython",
    "version": 3
   },
   "file_extension": ".py",
   "mimetype": "text/x-python",
   "name": "python",
   "nbconvert_exporter": "python",
   "pygments_lexer": "ipython3",
   "version": "3.8.18"
  },
  "vscode": {
   "interpreter": {
    "hash": "ce267657b6837f47d33f0b2122ba2a33317e0be6e0c92ea0faa9e718730d37ff"
   }
  }
 },
 "nbformat": 4,
 "nbformat_minor": 5
}
