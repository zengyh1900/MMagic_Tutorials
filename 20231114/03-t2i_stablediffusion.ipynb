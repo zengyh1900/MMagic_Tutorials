{
 "cells": [
  {
   "cell_type": "markdown",
   "id": "f6cf2fed-70ce-4b62-b962-5bcf6cc6fc9d",
   "metadata": {},
   "source": [
    "# 文生图-Stable Diffusion\n",
    "\n",
    "同济子豪兄 2023-6-13\n",
    "\n",
    "https://github.com/open-mmlab/mmagic/tree/main/configs/stable_diffusion"
   ]
  },
  {
   "cell_type": "markdown",
   "id": "516081d1-3b09-4fb8-9162-77c388f8bb47",
   "metadata": {},
   "source": [
    "## 导入工具包"
   ]
  },
  {
   "cell_type": "code",
   "execution_count": null,
   "id": "5430cf69-4340-43ec-be65-882ca8d0592b",
   "metadata": {},
   "outputs": [],
   "source": [
    "from mmagic.apis import MMagicInferencer"
   ]
  },
  {
   "cell_type": "markdown",
   "id": "dc5783f1-d6b5-48b5-9775-6b98b39db632",
   "metadata": {},
   "source": [
    "## 载入Stable Diffusion模型"
   ]
  },
  {
   "cell_type": "code",
   "execution_count": null,
   "id": "d941f0ef-36d2-4de9-90a2-f78c998b41dd",
   "metadata": {},
   "outputs": [],
   "source": [
    "sd_inferencer = MMagicInferencer(model_name='stable_diffusion')"
   ]
  },
  {
   "cell_type": "markdown",
   "id": "f8d8ea5b-3602-4960-a55e-4cf64dc1e9c8",
   "metadata": {},
   "source": [
    "## 指定Prompt文本"
   ]
  },
  {
   "cell_type": "code",
   "execution_count": null,
   "id": "838d83f7-03d5-4522-aa95-c0fbd701d3fc",
   "metadata": {},
   "outputs": [],
   "source": [
    "text_prompts = 'A panda is having dinner at KFC'\n",
    "\n",
    "text_prompts = 'A Persian cat walking in the streets of New York'"
   ]
  },
  {
   "cell_type": "markdown",
   "id": "1cd59eea-7b33-41e9-8513-7ba23e100094",
   "metadata": {},
   "source": [
    "## 执行预测"
   ]
  },
  {
   "cell_type": "code",
   "execution_count": null,
   "id": "6b26ec3a-0a40-4d15-b6f6-3a428612f016",
   "metadata": {},
   "outputs": [],
   "source": [
    "sd_inferencer.infer(text=text_prompts, result_out_dir='output/sd_res.png')"
   ]
  },
  {
   "cell_type": "code",
   "execution_count": null,
   "id": "4842efa3-b74a-4f06-bf59-b3a9d5c10993",
   "metadata": {},
   "outputs": [],
   "source": []
  }
 ],
 "metadata": {
  "kernelspec": {
   "display_name": "tutorial",
   "language": "python",
   "name": "python3"
  },
  "language_info": {
   "codemirror_mode": {
    "name": "ipython",
    "version": 3
   },
   "file_extension": ".py",
   "mimetype": "text/x-python",
   "name": "python",
   "nbconvert_exporter": "python",
   "pygments_lexer": "ipython3",
   "version": "3.8.18 (default, Sep 11 2023, 13:40:15) \n[GCC 11.2.0]"
  },
  "vscode": {
   "interpreter": {
    "hash": "ce267657b6837f47d33f0b2122ba2a33317e0be6e0c92ea0faa9e718730d37ff"
   }
  }
 },
 "nbformat": 4,
 "nbformat_minor": 5
}
