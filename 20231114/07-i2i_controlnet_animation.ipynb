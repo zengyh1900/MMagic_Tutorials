{
 "cells": [
  {
   "cell_type": "markdown",
   "id": "6bf9d72e-a4e6-4604-a03f-fc56e9cdcf40",
   "metadata": {},
   "source": [
    "# 图生图-ControlNet Animation\n",
    "\n",
    "同济子豪兄 2023-6-13"
   ]
  },
  {
   "cell_type": "markdown",
   "id": "b107ff69-042c-46ed-ad61-687e5fcaf1e1",
   "metadata": {},
   "source": [
    "## OpenXLab应用平台在线Demo\n",
    "\n",
    "https://beta.openxlab.org.cn/apps/detail/liuwenran/controlnet_animation"
   ]
  },
  {
   "cell_type": "markdown",
   "id": "fce95548-3be1-4a8a-a738-a0ec7729f746",
   "metadata": {},
   "source": [
    "## 进入 MMagic 主目录"
   ]
  },
  {
   "cell_type": "code",
   "execution_count": 1,
   "id": "e9c626a8-8405-4aac-8e9a-6e53d11e5c94",
   "metadata": {},
   "outputs": [],
   "source": [
    "import os\n",
    "os.chdir('mmagic')"
   ]
  },
  {
   "cell_type": "markdown",
   "id": "4713860b-d849-4685-9827-9837669145a1",
   "metadata": {},
   "source": [
    "## 方式一：Gradio命令行"
   ]
  },
  {
   "cell_type": "code",
   "execution_count": null,
   "id": "52b30adc-d1bd-46f0-8526-4519e929b7d1",
   "metadata": {},
   "outputs": [],
   "source": [
    "!python demo/gradio_controlnet_animation.py"
   ]
  },
  {
   "cell_type": "markdown",
   "id": "a813f30b-81ee-4d8f-9c81-1ca0b518b7ed",
   "metadata": {},
   "source": [
    "## 点击URL，打开Gradio在线交互式网站，上传视频，执行预测"
   ]
  },
  {
   "cell_type": "markdown",
   "id": "2d654866-912f-4b6d-9022-a224bf362c45",
   "metadata": {},
   "source": [
    "## 方式二：MMagic API"
   ]
  },
  {
   "cell_type": "code",
   "execution_count": 4,
   "id": "aee88297-0e7a-4b52-8854-ef63c3ab8f6a",
   "metadata": {},
   "outputs": [],
   "source": [
    "# 导入工具包\n",
    "from mmagic.apis import MMagicInferencer\n",
    "\n",
    "# Create a MMEdit instance and infer\n",
    "editor = MMagicInferencer(model_name='controlnet_animation')"
   ]
  },
  {
   "cell_type": "code",
   "execution_count": 3,
   "id": "6c7a003f-0aed-4248-b9d3-b95cfbf28d2b",
   "metadata": {},
   "outputs": [],
   "source": [
    "# 指定 prompt 咒语\n",
    "prompt = 'a girl, black hair, T-shirt, smoking, best quality, extremely detailed'\n",
    "negative_prompt = 'longbody, lowres, bad anatomy, bad hands, missing fingers, extra digit, fewer digits, cropped, worst quality, low quality'"
   ]
  },
  {
   "cell_type": "code",
   "execution_count": 6,
   "id": "4b1ee5b5-014f-4bf9-971d-aeee776e8c10",
   "metadata": {},
   "outputs": [],
   "source": [
    "# 待测视频\n",
    "# https://user-images.githubusercontent.com/12782558/227418400-80ad9123-7f8e-4c1a-8e19-0892ebad2a4f.mp4\n",
    "video = '../run_forrest_frames_rename_resized.mp4'\n",
    "save_path = '../output_video.mp4'"
   ]
  },
  {
   "cell_type": "code",
   "execution_count": 1,
   "id": "ea47a46a-334f-4d0f-85ed-b62ec8d043ff",
   "metadata": {},
   "outputs": [],
   "source": [
    "# 执行预测\n",
    "editor.infer(video=video, prompt=prompt, image_width=512, image_height=512, negative_prompt=negative_prompt, save_path=save_path)"
   ]
  },
  {
   "cell_type": "code",
   "execution_count": null,
   "id": "08a5bd3e-e83b-4237-b881-b0c1ddf41f5d",
   "metadata": {},
   "outputs": [],
   "source": []
  }
 ],
 "metadata": {
  "kernelspec": {
   "display_name": "Python 3 (ipykernel)",
   "language": "python",
   "name": "python3"
  },
  "language_info": {
   "codemirror_mode": {
    "name": "ipython",
    "version": 3
   },
   "file_extension": ".py",
   "mimetype": "text/x-python",
   "name": "python",
   "nbconvert_exporter": "python",
   "pygments_lexer": "ipython3",
   "version": "3.8.11"
  }
 },
 "nbformat": 4,
 "nbformat_minor": 5
}
