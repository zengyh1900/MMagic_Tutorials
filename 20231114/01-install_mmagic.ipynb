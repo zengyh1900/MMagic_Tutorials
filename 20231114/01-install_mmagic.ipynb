{
 "cells": [
  {
   "cell_type": "markdown",
   "id": "cc6f6c1d",
   "metadata": {},
   "source": [
    "# AIGC 应用体验\n",
    "\n",
    "- AIGC 算法库： https://github.com/open-mmlab/mmagic \n",
    "\n",
    "- MagicMaker 内容创作平台： https://magicmaker.openxlab.org.cn/\n",
    "\n",
    "- OpenXLab 应用中心：https://openxlab.org.cn/apps \n",
    "    - DragGAN: https://openxlab.org.cn/apps/detail/XingangPan/DragGAN\n",
    "    - Stable Diffusion Webui: https://openxlab.org.cn/apps/detail/camenduru/stable-diffusion-webui\n",
    "    - Latent Consistency Model: https://openxlab.org.cn/apps/detail/Latent-Consistency-Model/Latent-Consistency-Model \n",
    "    - AnimateDiff: https://openxlab.org.cn/apps/detail/Masbfca/AnimateDiff \n",
    "\n"
   ]
  },
  {
   "cell_type": "markdown",
   "id": "bc3d1961-9081-49c9-be56-ad0c748decf1",
   "metadata": {},
   "source": [
    "# 安装配置MMagic"
   ]
  },
  {
   "cell_type": "markdown",
   "id": "0fc8ebd8-db6e-4a17-895f-2f87fc98ca79",
   "metadata": {},
   "source": [
    "按照顺序逐行运行本代码，即可安装配置 MMCV、MMagic环境\n",
    "\n",
    "推荐代码运行[云GPU环境](https://featurize.cn?s=d7ce99f842414bfcaea5662a97581bd1)：GPU RTX 3060、CUDA v11.2"
   ]
  },
  {
   "cell_type": "markdown",
   "id": "63d0dc47-4601-49a3-8d25-12b4d24fa6f0",
   "metadata": {},
   "source": [
    "> 提示：以下代码运行时，若长时间运行卡着不动，可重启 kernel 后重新运行一遍"
   ]
  },
  {
   "cell_type": "markdown",
   "id": "6fc1c686-1267-4503-b9e4-bcb188a7f974",
   "metadata": {
    "tags": []
   },
   "source": [
    "## 安装Pytorch"
   ]
  },
  {
   "cell_type": "code",
   "execution_count": null,
   "id": "2fef57fc-d5f0-4cd0-a134-1f025c15439f",
   "metadata": {},
   "outputs": [],
   "source": [
    "# 安装Pytorch\n",
    "%proxy_on\n",
    "!pip3 install install torch==1.10.1+cu113 torchvision==0.11.2+cu113 torchaudio==0.10.1+cu113 -f https://download.pytorch.org/whl/cu113/torch_stable.html\n"
   ]
  },
  {
   "cell_type": "markdown",
   "id": "054b64e4-4796-4136-b45e-3664b281cf30",
   "metadata": {},
   "source": [
    "## 安装MMCV和MMEngine环境"
   ]
  },
  {
   "cell_type": "code",
   "execution_count": null,
   "id": "3fab4b08-7b45-4c82-923c-b08b680d1c76",
   "metadata": {},
   "outputs": [],
   "source": [
    "!pip3 install openmim\n",
    "!mim install 'mmcv>=2.0.0'\n",
    "!mim install 'mmengine'"
   ]
  },
  {
   "cell_type": "markdown",
   "id": "7a5136fe-fbcf-40cc-9f69-c3f40cb05115",
   "metadata": {},
   "source": [
    "## 安装MMagic"
   ]
  },
  {
   "cell_type": "code",
   "execution_count": null,
   "id": "14d6ccd9-e012-4f5e-af82-fe611e8993a2",
   "metadata": {},
   "outputs": [],
   "source": [
    "!mim install 'mmagic'"
   ]
  },
  {
   "cell_type": "markdown",
   "id": "b73f2d19-8c83-427f-b743-793e52b89ff3",
   "metadata": {},
   "source": [
    "## 从源码安装MMagic"
   ]
  },
  {
   "cell_type": "code",
   "execution_count": null,
   "id": "15b131cb-470e-4ff1-9009-c1b459261401",
   "metadata": {},
   "outputs": [],
   "source": [
    "!rm -rf mmagic # 删除原有的 mmagic 文件夹（如有）\n",
    "\n",
    "!git clone https://github.com/open-mmlab/mmagic.git # 下载 mmagic 源代码"
   ]
  },
  {
   "cell_type": "code",
   "execution_count": null,
   "id": "0f4d5369-2fad-4d58-9afe-503d5bb9c551",
   "metadata": {},
   "outputs": [],
   "source": [
    "import os\n",
    "os.chdir('mmagic')"
   ]
  },
  {
   "cell_type": "code",
   "execution_count": null,
   "id": "db3fe2af-f055-46ab-aba6-1a3172db8d64",
   "metadata": {},
   "outputs": [],
   "source": [
    "!pip3 install -e ."
   ]
  },
  {
   "cell_type": "markdown",
   "id": "fa97e1da-f245-4d32-892d-dec07a6b2c16",
   "metadata": {},
   "source": [
    "## 检查安装成功"
   ]
  },
  {
   "cell_type": "code",
   "execution_count": null,
   "id": "424fca02-13cc-493f-8833-ec63900f02d3",
   "metadata": {},
   "outputs": [],
   "source": [
    "# 检查 Pytorch\n",
    "import torch, torchvision\n",
    "print('Pytorch 版本', torch.__version__)\n",
    "print('CUDA 是否可用',torch.cuda.is_available())"
   ]
  },
  {
   "cell_type": "code",
   "execution_count": null,
   "id": "96a6e738-d9d3-4e9f-a053-15bf2f29d43b",
   "metadata": {},
   "outputs": [],
   "source": [
    "# 检查 mmcv\n",
    "import mmcv\n",
    "from mmcv.ops import get_compiling_cuda_version, get_compiler_version\n",
    "print('MMCV版本', mmcv.__version__)\n",
    "print('CUDA版本', get_compiling_cuda_version())\n",
    "print('编译器版本', get_compiler_version())"
   ]
  },
  {
   "cell_type": "code",
   "execution_count": null,
   "id": "dae8b28c-fa1f-4911-ba27-50ed745e9679",
   "metadata": {},
   "outputs": [],
   "source": [
    "# 检查 mmagic\n",
    "import mmagic\n",
    "print('MMagic版本', mmagic.__version__)"
   ]
  },
  {
   "cell_type": "markdown",
   "id": "6f89f196-6f70-46a5-9715-ee4755717c13",
   "metadata": {},
   "source": [
    "没有报错，即证明安装成功。"
   ]
  },
  {
   "cell_type": "markdown",
   "id": "da2a0e3b-ecf3-4a83-b754-81f6c91d153f",
   "metadata": {},
   "source": [
    "## 安装其它工具包"
   ]
  },
  {
   "cell_type": "code",
   "execution_count": null,
   "id": "884d718c-5165-47a7-9f9c-6cbc85c7c118",
   "metadata": {},
   "outputs": [],
   "source": [
    "!pip install opencv-python pillow matplotlib seaborn tqdm -i https://pypi.tuna.tsinghua.edu.cn/simple\n",
    "!pip install clip transformers gradio 'httpx[socks]' diffusers==0.14.0 -i https://pypi.tuna.tsinghua.edu.cn/simple\n",
    "!mim install 'mmdet>=3.0.0'"
   ]
  },
  {
   "cell_type": "code",
   "execution_count": null,
   "id": "4e169bd4-5830-47f2-8bb6-b8da02637eda",
   "metadata": {},
   "outputs": [],
   "source": []
  }
 ],
 "metadata": {
  "kernelspec": {
   "display_name": "Python 3",
   "language": "python",
   "name": "python3"
  },
  "language_info": {
   "codemirror_mode": {
    "name": "ipython",
    "version": 3
   },
   "file_extension": ".py",
   "mimetype": "text/x-python",
   "name": "python",
   "nbconvert_exporter": "python",
   "pygments_lexer": "ipython3",
   "version": "3.8.18 (default, Sep 11 2023, 13:40:15) \n[GCC 11.2.0]"
  },
  "vscode": {
   "interpreter": {
    "hash": "ce267657b6837f47d33f0b2122ba2a33317e0be6e0c92ea0faa9e718730d37ff"
   }
  }
 },
 "nbformat": 4,
 "nbformat_minor": 5
}
