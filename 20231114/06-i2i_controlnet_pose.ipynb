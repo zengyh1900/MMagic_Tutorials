{
 "cells": [
  {
   "cell_type": "markdown",
   "id": "8fdee633-9014-4d6b-ada0-5acf62f7228a",
   "metadata": {},
   "source": [
    "# 图生图-ControlNet-Pose\n",
    "\n",
    "同济子豪兄 2023-6-13\n",
    "\n",
    "https://github.com/open-mmlab/mmagic/tree/main/configs/controlnet"
   ]
  },
  {
   "cell_type": "markdown",
   "id": "c31719b7-dee2-4df3-b1c3-566b10cfe8e1",
   "metadata": {},
   "source": [
    "## 进入 MMagic 主目录"
   ]
  },
  {
   "cell_type": "code",
   "execution_count": null,
   "id": "560af927-513e-4b12-8d80-d1e963cdf914",
   "metadata": {},
   "outputs": [],
   "source": [
    "import os\n",
    "os.chdir('mmagic')"
   ]
  },
  {
   "cell_type": "markdown",
   "id": "47c326ac-cb9e-4f74-86fc-4fd005ecde1a",
   "metadata": {
    "tags": []
   },
   "source": [
    "## 导入工具包"
   ]
  },
  {
   "cell_type": "code",
   "execution_count": null,
   "id": "6c20e460-2c2c-4fbb-b36d-b0432cd3dcb9",
   "metadata": {},
   "outputs": [],
   "source": [
    "import mmcv\n",
    "from mmengine import Config\n",
    "from PIL import Image\n",
    "\n",
    "from mmagic.registry import MODELS\n",
    "from mmagic.utils import register_all_modules\n",
    "\n",
    "register_all_modules()"
   ]
  },
  {
   "cell_type": "markdown",
   "id": "a7576099-c20b-4a1b-9048-c45660bfec1c",
   "metadata": {},
   "source": [
    "## 载入ControlNet模型"
   ]
  },
  {
   "cell_type": "code",
   "execution_count": null,
   "id": "4febb2fe-82e8-4363-a704-3f6146dbffa7",
   "metadata": {},
   "outputs": [],
   "source": [
    "cfg = Config.fromfile('configs/controlnet/controlnet-pose.py')\n",
    "# convert ControlNet's weight from SD-v1.5 to Counterfeit-v2.5\n",
    "cfg.model.unet.from_pretrained = 'gsdf/Counterfeit-V2.5'\n",
    "cfg.model.vae.from_pretrained = 'gsdf/Counterfeit-V2.5'\n",
    "cfg.model.init_cfg['type'] = 'convert_from_unet'\n",
    "controlnet = MODELS.build(cfg.model).cuda()\n",
    "# call init_weights manually to convert weight\n",
    "controlnet.init_weights()"
   ]
  },
  {
   "cell_type": "markdown",
   "id": "5ba9feb6-e785-41a0-a1eb-a99d58073683",
   "metadata": {},
   "source": [
    "## 咒语Prompt"
   ]
  },
  {
   "cell_type": "code",
   "execution_count": null,
   "id": "7e40243c-ef3f-4bf0-8458-0e70856d2e56",
   "metadata": {},
   "outputs": [],
   "source": [
    "prompt = 'masterpiece, best quality, sky, black hair, skirt, sailor collar, looking at viewer, short hair, building, bangs, neckerchief, long sleeves, cloudy sky, power lines, shirt, cityscape, pleated skirt, scenery, blunt bangs, city, night, black sailor collar, closed mouth'\n"
   ]
  },
  {
   "cell_type": "markdown",
   "id": "68b23e02-ac2b-43ad-8e37-2e3b2938cabe",
   "metadata": {},
   "source": [
    "## 输入Pose图"
   ]
  },
  {
   "cell_type": "code",
   "execution_count": null,
   "id": "533d705d-a9de-4612-929d-1f5307bb5644",
   "metadata": {},
   "outputs": [],
   "source": [
    "control_url = 'https://user-images.githubusercontent.com/28132635/230380893-2eae68af-d610-4f7f-aa68-c2f22c2abf7e.png'\n",
    "control_img = mmcv.imread(control_url)\n",
    "control = Image.fromarray(control_img)\n",
    "control.save('control.png')"
   ]
  },
  {
   "cell_type": "code",
   "execution_count": null,
   "id": "41bb8465-96cd-458f-a0df-7e6d74104907",
   "metadata": {},
   "outputs": [],
   "source": [
    "control"
   ]
  },
  {
   "cell_type": "markdown",
   "id": "2cddc860-88c8-4457-ac75-3588f829f3ba",
   "metadata": {},
   "source": [
    "## 执行预测"
   ]
  },
  {
   "cell_type": "code",
   "execution_count": null,
   "id": "fe3063f9-e42e-48a7-8354-d365d3529768",
   "metadata": {},
   "outputs": [],
   "source": [
    "output_dict = controlnet.infer(prompt, control=control, width=512, height=512, guidance_scale=7.5)\n",
    "samples = output_dict['samples']\n",
    "for idx, sample in enumerate(samples):\n",
    "    sample.save(f'sample_{idx}.png')\n",
    "controls = output_dict['controls']\n",
    "for idx, control in enumerate(controls):\n",
    "    control.save(f'control_{idx}.png')"
   ]
  },
  {
   "cell_type": "code",
   "execution_count": null,
   "id": "89a21b60-0cb4-48aa-b436-43409120d232",
   "metadata": {},
   "outputs": [],
   "source": []
  }
 ],
 "metadata": {
  "kernelspec": {
   "display_name": "tutorial",
   "language": "python",
   "name": "python3"
  },
  "language_info": {
   "codemirror_mode": {
    "name": "ipython",
    "version": 3
   },
   "file_extension": ".py",
   "mimetype": "text/x-python",
   "name": "python",
   "nbconvert_exporter": "python",
   "pygments_lexer": "ipython3",
   "version": "3.8.18 (default, Sep 11 2023, 13:40:15) \n[GCC 11.2.0]"
  },
  "vscode": {
   "interpreter": {
    "hash": "ce267657b6837f47d33f0b2122ba2a33317e0be6e0c92ea0faa9e718730d37ff"
   }
  }
 },
 "nbformat": 4,
 "nbformat_minor": 5
}
