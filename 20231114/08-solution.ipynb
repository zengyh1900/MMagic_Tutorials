{
 "cells": [
  {
   "cell_type": "markdown",
   "metadata": {},
   "source": [
    "# 在 Fille50k 上训练模型\n",
    "\n",
    "1. 首先需要准备数据集，fill50k： https://huggingface.co/lllyasviel/ControlNet/blob/main/training/fill50k.zip \n",
    "2. 这是一个简单的人造数据集，如果想要训练满足你自己需求的 controlnet，需要你提前收集数据。\n",
    "3. 训练流程和设置参考 configs/train_controlnet_fill50k.py "
   ]
  },
  {
   "cell_type": "code",
   "execution_count": null,
   "metadata": {},
   "outputs": [],
   "source": [
    "!python -m torch.distributed.launch --nproc_per_node=1 train.py configs/train_controlnet_fill50k.py --launcher pytorch"
   ]
  },
  {
   "cell_type": "markdown",
   "metadata": {},
   "source": [
    "# 加载模型进行测试"
   ]
  },
  {
   "cell_type": "code",
   "execution_count": null,
   "metadata": {},
   "outputs": [],
   "source": [
    "from mmengine import Config\n",
    "\n",
    "from mmagic.registry import MODELS\n",
    "from mmagic.utils import register_all_modules\n",
    "from mmengine.registry import init_default_scope \n",
    "\n",
    "init_default_scope('mmagic')\n",
    "register_all_modules()"
   ]
  },
  {
   "cell_type": "markdown",
   "metadata": {},
   "source": [
    "修改路径，加载我们刚训练完成的模型，如下："
   ]
  },
  {
   "cell_type": "code",
   "execution_count": null,
   "metadata": {},
   "outputs": [],
   "source": [
    "cfg = Config.fromfile('configs/train_controlnet_fill50k.py')\n",
    "cfg.model.controlnet.from_config = 'data/control_fill50k'"
   ]
  },
  {
   "cell_type": "code",
   "execution_count": null,
   "metadata": {},
   "outputs": [],
   "source": [
    "control_fill50k = MODELS.build(cfg.model)\n",
    "control_fill50k = control_fill50k.cuda()"
   ]
  },
  {
   "cell_type": "markdown",
   "metadata": {},
   "source": [
    "加载测试图片"
   ]
  },
  {
   "cell_type": "code",
   "execution_count": null,
   "metadata": {},
   "outputs": [],
   "source": [
    "from PIL import Image \n",
    "\n",
    "control = Image.open('data/fill50k_example.png')"
   ]
  },
  {
   "cell_type": "code",
   "execution_count": null,
   "metadata": {},
   "outputs": [],
   "source": [
    "output_dict = control_fill50k.infer(prompt, control=control)\n"
   ]
  },
  {
   "cell_type": "code",
   "execution_count": null,
   "metadata": {},
   "outputs": [],
   "source": [
    "\n",
    "samples = output_dict['samples'][0]\n",
    "sample"
   ]
  }
 ],
 "metadata": {
  "kernelspec": {
   "display_name": "test",
   "language": "python",
   "name": "python3"
  },
  "language_info": {
   "name": "python",
   "version": "3.10.0 (default, Mar  3 2022, 09:58:08) [GCC 7.5.0]"
  },
  "orig_nbformat": 4,
  "vscode": {
   "interpreter": {
    "hash": "fb475ff52610bba8950132fb2efcd66f861c14e1a1ced953540369ade3f31742"
   }
  }
 },
 "nbformat": 4,
 "nbformat_minor": 2
}
