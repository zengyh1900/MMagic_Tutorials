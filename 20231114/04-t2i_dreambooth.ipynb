{
 "cells": [
  {
   "cell_type": "markdown",
   "id": "5aa04e42-1ad7-480c-bab7-d92c5b5257fc",
   "metadata": {},
   "source": [
    "# 文生图-Dreambooth\n",
    "\n",
    "同济子豪兄 2023-6-13\n",
    "\n",
    "https://github.com/open-mmlab/mmagic/tree/main/configs"
   ]
  },
  {
   "cell_type": "markdown",
   "id": "c470faee-87e4-48bb-91b7-54065015fa20",
   "metadata": {},
   "source": [
    "## 进入 MMagic 主目录"
   ]
  },
  {
   "cell_type": "code",
   "execution_count": null,
   "id": "5a608490-06d8-46f8-93c6-93fcbac17711",
   "metadata": {},
   "outputs": [],
   "source": [
    "import os\n",
    "os.chdir('mmagic')"
   ]
  },
  {
   "cell_type": "markdown",
   "id": "7a28e1b4-6e89-4e96-a07a-5c7fbacad022",
   "metadata": {},
   "source": [
    "## 在数据集上训练Dreambooth"
   ]
  },
  {
   "cell_type": "code",
   "execution_count": null,
   "id": "9b77ad0b-e596-4798-bf49-cdd807924068",
   "metadata": {},
   "outputs": [],
   "source": [
    "# !bash tools/dist_train.sh configs/dreambooth/dreambooth.py 1\n",
    "\n",
    "!bash tools/dist_train.sh configs/dreambooth/dreambooth-lora.py 1"
   ]
  },
  {
   "cell_type": "markdown",
   "id": "2fda7ff6-f1ae-4b11-b4a4-45b0ec27e628",
   "metadata": {},
   "source": [
    "## 用训练好的模型做预测"
   ]
  },
  {
   "cell_type": "code",
   "execution_count": null,
   "id": "c98ac7dc-b3e1-4cb4-94b0-8f7a79f2546e",
   "metadata": {},
   "outputs": [],
   "source": [
    "from mmengine import Config\n",
    "\n",
    "from mmagic.registry import MODELS\n",
    "from mmagic.utils import register_all_modules\n",
    "\n",
    "register_all_modules()"
   ]
  },
  {
   "cell_type": "code",
   "execution_count": null,
   "id": "569d8b8a-0222-4960-878a-47cc621ba52b",
   "metadata": {},
   "outputs": [],
   "source": [
    "!ls\n",
    "cfg = Config.fromfile('configs/dreambooth/dreambooth-lora.py')"
   ]
  },
  {
   "cell_type": "code",
   "execution_count": null,
   "id": "3d66a113-e116-4147-af8e-f8c0a2273b27",
   "metadata": {},
   "outputs": [],
   "source": [
    "dreambooth_lora = MODELS.build(cfg.model)"
   ]
  },
  {
   "cell_type": "code",
   "execution_count": null,
   "id": "a4dfcd5e-5787-4983-b4dd-fca16e333505",
   "metadata": {},
   "outputs": [],
   "source": [
    "state = torch.load('mmagic/work_dirs/dreambooth-lora/iter_1000.pth')['state_dict']"
   ]
  },
  {
   "cell_type": "code",
   "execution_count": null,
   "id": "0740739f-f2c1-4a03-9a88-01fbf48ad760",
   "metadata": {},
   "outputs": [],
   "source": [
    "def convert_state_dict(state):\n",
    "    state_dict_new = {}\n",
    "    for k, v in state.items():\n",
    "        if '.module' in k:\n",
    "            k_new = k.replace('.module', '')\n",
    "        else:\n",
    "            k_new = k\n",
    "        if 'vae' in k:\n",
    "            if 'to_q' in k:\n",
    "                k_new = k.replace('to_q', 'query')\n",
    "            elif 'to_k' in k:\n",
    "                k_new = k.replace('to_k', 'key')\n",
    "            elif 'to_v' in k:\n",
    "                k_new = k.replace('to_v', 'value')\n",
    "            elif 'to_out' in k:\n",
    "                k_new = k.replace('to_out.0', 'proj_attn')\n",
    "        state_dict_new[k_new] = v\n",
    "    return state_dict_new"
   ]
  },
  {
   "cell_type": "code",
   "execution_count": null,
   "id": "a0566b1f-c24d-4bf8-ab0d-054dbf0f349d",
   "metadata": {},
   "outputs": [],
   "source": [
    "dreambooth_lora.load_state_dict(convert_state_dict(state))\n",
    "dreambooth_lora = dreambooth_lora.cuda()"
   ]
  },
  {
   "cell_type": "code",
   "execution_count": null,
   "id": "5fb9f941-a77e-409e-9336-4b33bcb6c55c",
   "metadata": {},
   "outputs": [],
   "source": [
    "samples = dreambooth_lora.infer('side view of sks dog', guidance_scale=5)"
   ]
  },
  {
   "cell_type": "code",
   "execution_count": null,
   "id": "d38c282d-b9ce-4f95-a82c-cdfc9ffa94b8",
   "metadata": {},
   "outputs": [],
   "source": [
    "samples['samples'][0]"
   ]
  },
  {
   "cell_type": "code",
   "execution_count": null,
   "id": "8852136d-085d-4cda-8c98-4ce3700a0550",
   "metadata": {},
   "outputs": [],
   "source": [
    "samples = dreambooth_lora.infer('ear close-up of sks dog', guidance_scale=5)"
   ]
  },
  {
   "cell_type": "code",
   "execution_count": null,
   "id": "43f3990e-44b0-47a8-aa1d-a7d61b8ed734",
   "metadata": {},
   "outputs": [],
   "source": [
    "samples['samples'][0]"
   ]
  },
  {
   "cell_type": "code",
   "execution_count": null,
   "id": "d8f09e71-9498-4650-ba99-539f47ae4882",
   "metadata": {},
   "outputs": [],
   "source": []
  }
 ],
 "metadata": {
  "kernelspec": {
   "display_name": "mmedit",
   "language": "python",
   "name": "python3"
  },
  "language_info": {
   "codemirror_mode": {
    "name": "ipython",
    "version": 3
   },
   "file_extension": ".py",
   "mimetype": "text/x-python",
   "name": "python",
   "nbconvert_exporter": "python",
   "pygments_lexer": "ipython3",
   "version": "3.8.15 (default, Nov 24 2022, 15:19:38) \n[GCC 11.2.0]"
  },
  "vscode": {
   "interpreter": {
    "hash": "8a790557e889e2922589306d43a371a577a240f41fa7b7ba3f42c50a288f21ae"
   }
  }
 },
 "nbformat": 4,
 "nbformat_minor": 5
}
