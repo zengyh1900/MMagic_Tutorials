{
 "cells": [
  {
   "cell_type": "markdown",
   "id": "f6b498ee-e1d2-4122-a7da-8539f2329e85",
   "metadata": {},
   "source": [
    "# 作业、思考与拓展"
   ]
  },
  {
   "cell_type": "markdown",
   "id": "96192b29",
   "metadata": {},
   "source": [
    "## 作业 \n",
    "\n",
    "1. 参考 dreambooth 的训练，来训练自己的 ControlNet\n",
    "2. 数据集：https://huggingface.co/lllyasviel/ControlNet/blob/main/training/fill50k.zip\n",
    "3. 参考配置文件：https://github.com/open-mmlab/mmagic/blob/main/configs/controlnet/controlnet-1xb1-fill50k.py\n",
    "\n"
   ]
  },
  {
   "cell_type": "markdown",
   "id": "f3809907-3eb9-42ba-ba90-5c5660c5aa2b",
   "metadata": {},
   "source": [
    "##  思考题\n",
    "\n",
    "\n",
    "1. 你觉得为什么 ControlNet 带来了巨大的影响力？\n",
    "2. ControlNet 还有哪些局限性？\n",
    "3. 目前 AIGC 领域有哪些难点和挑战？\n",
    "4. 近几年来，AIGC 有什么发展趋势？"
   ]
  }
 ],
 "metadata": {
  "kernelspec": {
   "display_name": "tutorial",
   "language": "python",
   "name": "python3"
  },
  "language_info": {
   "codemirror_mode": {
    "name": "ipython",
    "version": 3
   },
   "file_extension": ".py",
   "mimetype": "text/x-python",
   "name": "python",
   "nbconvert_exporter": "python",
   "pygments_lexer": "ipython3",
   "version": "3.8.18 (default, Sep 11 2023, 13:40:15) \n[GCC 11.2.0]"
  },
  "vscode": {
   "interpreter": {
    "hash": "ce267657b6837f47d33f0b2122ba2a33317e0be6e0c92ea0faa9e718730d37ff"
   }
  }
 },
 "nbformat": 4,
 "nbformat_minor": 5
}
